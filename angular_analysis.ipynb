{
 "cells": [
  {
   "cell_type": "markdown",
   "id": "0ea2c63d-71ca-4b1a-899e-9305c9d45c34",
   "metadata": {},
   "source": [
    "# Analisi dati del CRC\n",
    "Questo notebook è parzialmente basato sui notebook di Antonio Iuliano: https://baltig.infn.it/iuliano/ocra_analysis/-/blob/main/CRC_Totem/CRCQuality.ipynb?ref_type=heads e https://baltig.infn.it/iuliano/ocra_analysis/-/blob/main/CRC_Totem/DisplayCRCData.ipynb?ref_type=heads"
   ]
  },
  {
   "cell_type": "code",
   "execution_count": 1,
   "id": "e986bdd3-83fa-4007-bd99-563e876aecfa",
   "metadata": {},
   "outputs": [],
   "source": [
    "import math\n",
    "import numpy as np\n",
    "import pandas as pd\n",
    "import matplotlib.pyplot as plt\n",
    "from astropy.modeling import models, fitting"
   ]
  },
  {
   "cell_type": "markdown",
   "id": "921c2638-6993-4231-93db-eccf31fef11b",
   "metadata": {},
   "source": [
    "## Lettura dei dati\n",
    "cf. https://baltig.infn.it/iuliano/ocra_analysis/-/blob/main/CRC_Totem/CRCQuality.ipynb?ref_type=heads"
   ]
  },
  {
   "cell_type": "code",
   "execution_count": 2,
   "id": "d2570c82-31e2-4260-8e25-f681006b617a",
   "metadata": {},
   "outputs": [],
   "source": [
    "def convertdata(xnumber,verbose = False):\n",
    " '''converte i dati dal CRC in binario, con l'informazione dei piani accesi\n",
    "    xnumber: numero del piano;\n",
    "    verbose: se True, stampa a schermo i numeri convertiti per controllo\n",
    " '''\n",
    " nplanes = 4\n",
    " planes=[] #lista di destinazione\n",
    " for iplane in range(nplanes-1,-1,-1): #ciclo da 3 a 0\n",
    "  #convertiamo i numeri da esadecimale, per ognuno dei 4 piani\n",
    "  planecode = int(xnumber[2*iplane:2*iplane+2],16)\n",
    "  if (verbose):\n",
    "   #stampiamo le informazioni dei piani\n",
    "   print(format(planecode,\"#08b\")) #08b è il formato binario, con gli zeri a monte lasciati per vedere i piani spenti\n",
    "  planes.append(format(planecode,\"#08b\")) #aggiungiamo il piano alla lista di uscita\n",
    " return planes "
   ]
  },
  {
   "cell_type": "code",
   "execution_count": 3,
   "id": "4ce3afb2-8905-4ed7-98d5-5592c56a18db",
   "metadata": {},
   "outputs": [
    {
     "data": {
      "text/html": [
       "<div>\n",
       "<style scoped>\n",
       "    .dataframe tbody tr th:only-of-type {\n",
       "        vertical-align: middle;\n",
       "    }\n",
       "\n",
       "    .dataframe tbody tr th {\n",
       "        vertical-align: top;\n",
       "    }\n",
       "\n",
       "    .dataframe thead th {\n",
       "        text-align: right;\n",
       "    }\n",
       "</style>\n",
       "<table border=\"1\" class=\"dataframe\">\n",
       "  <thead>\n",
       "    <tr style=\"text-align: right;\">\n",
       "      <th></th>\n",
       "      <th>Event Number</th>\n",
       "      <th>XZview</th>\n",
       "      <th>YZview</th>\n",
       "      <th>Date</th>\n",
       "      <th>Time</th>\n",
       "      <th>AM/PM</th>\n",
       "      <th>Meta</th>\n",
       "    </tr>\n",
       "  </thead>\n",
       "  <tbody>\n",
       "    <tr>\n",
       "      <th>0</th>\n",
       "      <td>6148</td>\n",
       "      <td>20202020</td>\n",
       "      <td>02020404</td>\n",
       "      <td>28/4/2025</td>\n",
       "      <td>04:19:59.268</td>\n",
       "      <td>PM</td>\n",
       "      <td>_;_;_;_;_;0,9805807;0°</td>\n",
       "    </tr>\n",
       "    <tr>\n",
       "      <th>1</th>\n",
       "      <td>6149</td>\n",
       "      <td>20080201</td>\n",
       "      <td>02020100</td>\n",
       "      <td>28/4/2025</td>\n",
       "      <td>04:19:59.723</td>\n",
       "      <td>PM</td>\n",
       "      <td>_;_;_;_;_;0,6963106;104°</td>\n",
       "    </tr>\n",
       "    <tr>\n",
       "      <th>2</th>\n",
       "      <td>6150</td>\n",
       "      <td>02040408</td>\n",
       "      <td>08040201</td>\n",
       "      <td>28/4/2025</td>\n",
       "      <td>04:20:00.803</td>\n",
       "      <td>PM</td>\n",
       "      <td>_;_;_;_;_;0,8638684;210°</td>\n",
       "    </tr>\n",
       "    <tr>\n",
       "      <th>3</th>\n",
       "      <td>6151</td>\n",
       "      <td>02081020</td>\n",
       "      <td>04040202</td>\n",
       "      <td>28/4/2025</td>\n",
       "      <td>04:20:01.210</td>\n",
       "      <td>PM</td>\n",
       "      <td>_;_;_;_;_;0,8268982;252°</td>\n",
       "    </tr>\n",
       "    <tr>\n",
       "      <th>4</th>\n",
       "      <td>6152</td>\n",
       "      <td>20202010</td>\n",
       "      <td>04040202</td>\n",
       "      <td>28/4/2025</td>\n",
       "      <td>04:20:01.885</td>\n",
       "      <td>PM</td>\n",
       "      <td>_;_;_;_;_;0,9701425;143°</td>\n",
       "    </tr>\n",
       "  </tbody>\n",
       "</table>\n",
       "</div>"
      ],
      "text/plain": [
       "  Event Number    XZview    YZview       Date          Time AM/PM  \\\n",
       "0         6148  20202020  02020404  28/4/2025  04:19:59.268    PM   \n",
       "1         6149  20080201  02020100  28/4/2025  04:19:59.723    PM   \n",
       "2         6150  02040408  08040201  28/4/2025  04:20:00.803    PM   \n",
       "3         6151  02081020  04040202  28/4/2025  04:20:01.210    PM   \n",
       "4         6152  20202010  04040202  28/4/2025  04:20:01.885    PM   \n",
       "\n",
       "                       Meta  \n",
       "0    _;_;_;_;_;0,9805807;0°  \n",
       "1  _;_;_;_;_;0,6963106;104°  \n",
       "2  _;_;_;_;_;0,8638684;210°  \n",
       "3  _;_;_;_;_;0,8268982;252°  \n",
       "4  _;_;_;_;_;0,9701425;143°  "
      ]
     },
     "execution_count": 3,
     "metadata": {},
     "output_type": "execute_result"
    }
   ],
   "source": [
    "muondata = pd.read_csv(\"./CRC-4 LNGS 28-04-2025 16-19-57.txt\",header=None,sep=\" \",dtype=str)\n",
    "# muondata.columns = [\"Event Number\",\"YZview\",\"XZview\",\"Time\"] #first Y, then X\n",
    "### NB: Usare la linea seguente per i dati acquisiti con l'app >=v2.10\n",
    "muondata.columns = [\"Event Number\",\"XZview\",\"YZview\",\"Date\",\"Time\",\"AM/PM\",\"Meta\"] #first Y, then X\n",
    "muondata.head()"
   ]
  },
  {
   "cell_type": "code",
   "execution_count": 4,
   "id": "69b0acce-4eda-420f-960b-b06d6e69793e",
   "metadata": {},
   "outputs": [
    {
     "name": "stdout",
     "output_type": "stream",
     "text": [
      "Length before quality selection: 8733\n",
      "Length after quality selection: 8727\n"
     ]
    }
   ],
   "source": [
    "# Some rows have bad data (less than 8 hex digits)\n",
    "quality_selection = np.bitwise_and([len(str(x))==8 for x in muondata[\"XZview\"]], [len(str(x))==8 for x in muondata[\"YZview\"]])\n",
    "print('Length before quality selection:', len(muondata))\n",
    "muondata = muondata[quality_selection]\n",
    "print('Length after quality selection:', len(muondata))"
   ]
  },
  {
   "cell_type": "code",
   "execution_count": 5,
   "id": "9e5c78b4-b608-4b6b-81ff-5f1e72efc639",
   "metadata": {},
   "outputs": [
    {
     "data": {
      "text/html": [
       "<div>\n",
       "<style scoped>\n",
       "    .dataframe tbody tr th:only-of-type {\n",
       "        vertical-align: middle;\n",
       "    }\n",
       "\n",
       "    .dataframe tbody tr th {\n",
       "        vertical-align: top;\n",
       "    }\n",
       "\n",
       "    .dataframe thead th {\n",
       "        text-align: right;\n",
       "    }\n",
       "</style>\n",
       "<table border=\"1\" class=\"dataframe\">\n",
       "  <thead>\n",
       "    <tr style=\"text-align: right;\">\n",
       "      <th></th>\n",
       "      <th>Event Number</th>\n",
       "      <th>XZview</th>\n",
       "      <th>YZview</th>\n",
       "      <th>Date</th>\n",
       "      <th>Time</th>\n",
       "      <th>AM/PM</th>\n",
       "      <th>Meta</th>\n",
       "      <th>XZdecoded</th>\n",
       "      <th>YZdecoded</th>\n",
       "    </tr>\n",
       "  </thead>\n",
       "  <tbody>\n",
       "    <tr>\n",
       "      <th>0</th>\n",
       "      <td>6148</td>\n",
       "      <td>20202020</td>\n",
       "      <td>02020404</td>\n",
       "      <td>28/4/2025</td>\n",
       "      <td>04:19:59.268</td>\n",
       "      <td>PM</td>\n",
       "      <td>_;_;_;_;_;0,9805807;0°</td>\n",
       "      <td>[0b100000, 0b100000, 0b100000, 0b100000]</td>\n",
       "      <td>[0b000100, 0b000100, 0b000010, 0b000010]</td>\n",
       "    </tr>\n",
       "    <tr>\n",
       "      <th>1</th>\n",
       "      <td>6149</td>\n",
       "      <td>20080201</td>\n",
       "      <td>02020100</td>\n",
       "      <td>28/4/2025</td>\n",
       "      <td>04:19:59.723</td>\n",
       "      <td>PM</td>\n",
       "      <td>_;_;_;_;_;0,6963106;104°</td>\n",
       "      <td>[0b000001, 0b000010, 0b001000, 0b100000]</td>\n",
       "      <td>[0b000000, 0b000001, 0b000010, 0b000010]</td>\n",
       "    </tr>\n",
       "    <tr>\n",
       "      <th>2</th>\n",
       "      <td>6150</td>\n",
       "      <td>02040408</td>\n",
       "      <td>08040201</td>\n",
       "      <td>28/4/2025</td>\n",
       "      <td>04:20:00.803</td>\n",
       "      <td>PM</td>\n",
       "      <td>_;_;_;_;_;0,8638684;210°</td>\n",
       "      <td>[0b001000, 0b000100, 0b000100, 0b000010]</td>\n",
       "      <td>[0b000001, 0b000010, 0b000100, 0b001000]</td>\n",
       "    </tr>\n",
       "    <tr>\n",
       "      <th>3</th>\n",
       "      <td>6151</td>\n",
       "      <td>02081020</td>\n",
       "      <td>04040202</td>\n",
       "      <td>28/4/2025</td>\n",
       "      <td>04:20:01.210</td>\n",
       "      <td>PM</td>\n",
       "      <td>_;_;_;_;_;0,8268982;252°</td>\n",
       "      <td>[0b100000, 0b010000, 0b001000, 0b000010]</td>\n",
       "      <td>[0b000010, 0b000010, 0b000100, 0b000100]</td>\n",
       "    </tr>\n",
       "    <tr>\n",
       "      <th>4</th>\n",
       "      <td>6152</td>\n",
       "      <td>20202010</td>\n",
       "      <td>04040202</td>\n",
       "      <td>28/4/2025</td>\n",
       "      <td>04:20:01.885</td>\n",
       "      <td>PM</td>\n",
       "      <td>_;_;_;_;_;0,9701425;143°</td>\n",
       "      <td>[0b010000, 0b100000, 0b100000, 0b100000]</td>\n",
       "      <td>[0b000010, 0b000010, 0b000100, 0b000100]</td>\n",
       "    </tr>\n",
       "  </tbody>\n",
       "</table>\n",
       "</div>"
      ],
      "text/plain": [
       "  Event Number    XZview    YZview       Date          Time AM/PM  \\\n",
       "0         6148  20202020  02020404  28/4/2025  04:19:59.268    PM   \n",
       "1         6149  20080201  02020100  28/4/2025  04:19:59.723    PM   \n",
       "2         6150  02040408  08040201  28/4/2025  04:20:00.803    PM   \n",
       "3         6151  02081020  04040202  28/4/2025  04:20:01.210    PM   \n",
       "4         6152  20202010  04040202  28/4/2025  04:20:01.885    PM   \n",
       "\n",
       "                       Meta                                 XZdecoded  \\\n",
       "0    _;_;_;_;_;0,9805807;0°  [0b100000, 0b100000, 0b100000, 0b100000]   \n",
       "1  _;_;_;_;_;0,6963106;104°  [0b000001, 0b000010, 0b001000, 0b100000]   \n",
       "2  _;_;_;_;_;0,8638684;210°  [0b001000, 0b000100, 0b000100, 0b000010]   \n",
       "3  _;_;_;_;_;0,8268982;252°  [0b100000, 0b010000, 0b001000, 0b000010]   \n",
       "4  _;_;_;_;_;0,9701425;143°  [0b010000, 0b100000, 0b100000, 0b100000]   \n",
       "\n",
       "                                  YZdecoded  \n",
       "0  [0b000100, 0b000100, 0b000010, 0b000010]  \n",
       "1  [0b000000, 0b000001, 0b000010, 0b000010]  \n",
       "2  [0b000001, 0b000010, 0b000100, 0b001000]  \n",
       "3  [0b000010, 0b000010, 0b000100, 0b000100]  \n",
       "4  [0b000010, 0b000010, 0b000100, 0b000100]  "
      ]
     },
     "execution_count": 5,
     "metadata": {},
     "output_type": "execute_result"
    }
   ],
   "source": [
    "muondata[\"XZdecoded\"]=muondata[\"XZview\"].apply(convertdata)\n",
    "muondata[\"YZdecoded\"]=muondata[\"YZview\"].apply(convertdata)\n",
    "muondata.head()"
   ]
  },
  {
   "cell_type": "markdown",
   "id": "a0f34cdf-4a75-4203-a595-561769047f55",
   "metadata": {},
   "source": [
    "Definiamo un'altra funzione per ottenere le coordinate $x$, $y$ e $z$ per ogni traccia. Ricordiamo che le barre di scintillatore sono larghe 4 cm, lunghe 26 cm e distanziate verticalmente 7 cm."
   ]
  },
  {
   "cell_type": "code",
   "execution_count": 6,
   "id": "5e3a1f92-7ba3-4ec2-9e9f-ef1b2073d3dd",
   "metadata": {},
   "outputs": [],
   "source": [
    "def get_coordinates(xz_array, yz_array):\n",
    "    x_array = []\n",
    "    y_array = []\n",
    "    z_array = []\n",
    "    dx = 4\n",
    "    dz = 7\n",
    "    for plane in xz_array:\n",
    "        data = plane[2:]\n",
    "        x_pos = []\n",
    "        for (idx, j) in enumerate(data):\n",
    "            # Lista dei valori di x registrati su un piano (potrebbero essere più di una!)\n",
    "            if j == '1':\n",
    "                # Posizioni rispetto al centro di ciascuna sbarretta\n",
    "                x_pos.append((idx + 1/2)*dx)\n",
    "        # Aggiunge alla lista di valori di x la media calcolata sul piano\n",
    "        x_array.append(np.average(x_pos))\n",
    "\n",
    "    # Ripeti per y\n",
    "    for plane in yz_array:\n",
    "        data = plane[2:]\n",
    "        y_pos = []\n",
    "        for (idx, j) in enumerate(data):\n",
    "            if j == '1':\n",
    "                y_pos.append((idx + 1/2)*dx)\n",
    "        y_array.append(np.average(y_pos))\n",
    "    \n",
    "    # La coordinata z è semplicemente il numero del piano per la distanza fra piani adiacenti\n",
    "    # len(xz_array) corrisponde al numero di piani di trigger utilizzati\n",
    "    z_array = np.linspace(0, len(xz_array)-1, len(xz_array))*dz\n",
    "\n",
    "    return x_array, y_array, z_array"
   ]
  },
  {
   "cell_type": "code",
   "execution_count": 7,
   "id": "b5c5d6ae-1013-4740-a067-262d63e73d24",
   "metadata": {},
   "outputs": [
    {
     "name": "stderr",
     "output_type": "stream",
     "text": [
      "/lustrehome/fschiavone/.local/lib/python3.11/site-packages/numpy/lib/_function_base_impl.py:557: RuntimeWarning: Mean of empty slice.\n",
      "  avg = a.mean(axis, **keepdims_kw)\n",
      "/lustrehome/fschiavone/.local/lib/python3.11/site-packages/numpy/_core/_methods.py:138: RuntimeWarning: invalid value encountered in scalar divide\n",
      "  ret = ret.dtype.type(ret / rcount)\n"
     ]
    },
    {
     "data": {
      "text/html": [
       "<div>\n",
       "<style scoped>\n",
       "    .dataframe tbody tr th:only-of-type {\n",
       "        vertical-align: middle;\n",
       "    }\n",
       "\n",
       "    .dataframe tbody tr th {\n",
       "        vertical-align: top;\n",
       "    }\n",
       "\n",
       "    .dataframe thead th {\n",
       "        text-align: right;\n",
       "    }\n",
       "</style>\n",
       "<table border=\"1\" class=\"dataframe\">\n",
       "  <thead>\n",
       "    <tr style=\"text-align: right;\">\n",
       "      <th></th>\n",
       "      <th>Event Number</th>\n",
       "      <th>XZview</th>\n",
       "      <th>YZview</th>\n",
       "      <th>Date</th>\n",
       "      <th>Time</th>\n",
       "      <th>AM/PM</th>\n",
       "      <th>Meta</th>\n",
       "      <th>XZdecoded</th>\n",
       "      <th>YZdecoded</th>\n",
       "      <th>Xcoords</th>\n",
       "      <th>Ycoords</th>\n",
       "      <th>Zcoords</th>\n",
       "    </tr>\n",
       "  </thead>\n",
       "  <tbody>\n",
       "    <tr>\n",
       "      <th>0</th>\n",
       "      <td>6148</td>\n",
       "      <td>20202020</td>\n",
       "      <td>02020404</td>\n",
       "      <td>28/4/2025</td>\n",
       "      <td>04:19:59.268</td>\n",
       "      <td>PM</td>\n",
       "      <td>_;_;_;_;_;0,9805807;0°</td>\n",
       "      <td>[0b100000, 0b100000, 0b100000, 0b100000]</td>\n",
       "      <td>[0b000100, 0b000100, 0b000010, 0b000010]</td>\n",
       "      <td>[2.0, 2.0, 2.0, 2.0]</td>\n",
       "      <td>[14.0, 14.0, 18.0, 18.0]</td>\n",
       "      <td>[0.0, 7.0, 14.0, 21.0]</td>\n",
       "    </tr>\n",
       "    <tr>\n",
       "      <th>1</th>\n",
       "      <td>6149</td>\n",
       "      <td>20080201</td>\n",
       "      <td>02020100</td>\n",
       "      <td>28/4/2025</td>\n",
       "      <td>04:19:59.723</td>\n",
       "      <td>PM</td>\n",
       "      <td>_;_;_;_;_;0,6963106;104°</td>\n",
       "      <td>[0b000001, 0b000010, 0b001000, 0b100000]</td>\n",
       "      <td>[0b000000, 0b000001, 0b000010, 0b000010]</td>\n",
       "      <td>[22.0, 18.0, 10.0, 2.0]</td>\n",
       "      <td>[nan, 22.0, 18.0, 18.0]</td>\n",
       "      <td>[0.0, 7.0, 14.0, 21.0]</td>\n",
       "    </tr>\n",
       "    <tr>\n",
       "      <th>2</th>\n",
       "      <td>6150</td>\n",
       "      <td>02040408</td>\n",
       "      <td>08040201</td>\n",
       "      <td>28/4/2025</td>\n",
       "      <td>04:20:00.803</td>\n",
       "      <td>PM</td>\n",
       "      <td>_;_;_;_;_;0,8638684;210°</td>\n",
       "      <td>[0b001000, 0b000100, 0b000100, 0b000010]</td>\n",
       "      <td>[0b000001, 0b000010, 0b000100, 0b001000]</td>\n",
       "      <td>[10.0, 14.0, 14.0, 18.0]</td>\n",
       "      <td>[22.0, 18.0, 14.0, 10.0]</td>\n",
       "      <td>[0.0, 7.0, 14.0, 21.0]</td>\n",
       "    </tr>\n",
       "    <tr>\n",
       "      <th>3</th>\n",
       "      <td>6151</td>\n",
       "      <td>02081020</td>\n",
       "      <td>04040202</td>\n",
       "      <td>28/4/2025</td>\n",
       "      <td>04:20:01.210</td>\n",
       "      <td>PM</td>\n",
       "      <td>_;_;_;_;_;0,8268982;252°</td>\n",
       "      <td>[0b100000, 0b010000, 0b001000, 0b000010]</td>\n",
       "      <td>[0b000010, 0b000010, 0b000100, 0b000100]</td>\n",
       "      <td>[2.0, 6.0, 10.0, 18.0]</td>\n",
       "      <td>[18.0, 18.0, 14.0, 14.0]</td>\n",
       "      <td>[0.0, 7.0, 14.0, 21.0]</td>\n",
       "    </tr>\n",
       "    <tr>\n",
       "      <th>4</th>\n",
       "      <td>6152</td>\n",
       "      <td>20202010</td>\n",
       "      <td>04040202</td>\n",
       "      <td>28/4/2025</td>\n",
       "      <td>04:20:01.885</td>\n",
       "      <td>PM</td>\n",
       "      <td>_;_;_;_;_;0,9701425;143°</td>\n",
       "      <td>[0b010000, 0b100000, 0b100000, 0b100000]</td>\n",
       "      <td>[0b000010, 0b000010, 0b000100, 0b000100]</td>\n",
       "      <td>[6.0, 2.0, 2.0, 2.0]</td>\n",
       "      <td>[18.0, 18.0, 14.0, 14.0]</td>\n",
       "      <td>[0.0, 7.0, 14.0, 21.0]</td>\n",
       "    </tr>\n",
       "  </tbody>\n",
       "</table>\n",
       "</div>"
      ],
      "text/plain": [
       "  Event Number    XZview    YZview       Date          Time AM/PM  \\\n",
       "0         6148  20202020  02020404  28/4/2025  04:19:59.268    PM   \n",
       "1         6149  20080201  02020100  28/4/2025  04:19:59.723    PM   \n",
       "2         6150  02040408  08040201  28/4/2025  04:20:00.803    PM   \n",
       "3         6151  02081020  04040202  28/4/2025  04:20:01.210    PM   \n",
       "4         6152  20202010  04040202  28/4/2025  04:20:01.885    PM   \n",
       "\n",
       "                       Meta                                 XZdecoded  \\\n",
       "0    _;_;_;_;_;0,9805807;0°  [0b100000, 0b100000, 0b100000, 0b100000]   \n",
       "1  _;_;_;_;_;0,6963106;104°  [0b000001, 0b000010, 0b001000, 0b100000]   \n",
       "2  _;_;_;_;_;0,8638684;210°  [0b001000, 0b000100, 0b000100, 0b000010]   \n",
       "3  _;_;_;_;_;0,8268982;252°  [0b100000, 0b010000, 0b001000, 0b000010]   \n",
       "4  _;_;_;_;_;0,9701425;143°  [0b010000, 0b100000, 0b100000, 0b100000]   \n",
       "\n",
       "                                  YZdecoded                   Xcoords  \\\n",
       "0  [0b000100, 0b000100, 0b000010, 0b000010]      [2.0, 2.0, 2.0, 2.0]   \n",
       "1  [0b000000, 0b000001, 0b000010, 0b000010]   [22.0, 18.0, 10.0, 2.0]   \n",
       "2  [0b000001, 0b000010, 0b000100, 0b001000]  [10.0, 14.0, 14.0, 18.0]   \n",
       "3  [0b000010, 0b000010, 0b000100, 0b000100]    [2.0, 6.0, 10.0, 18.0]   \n",
       "4  [0b000010, 0b000010, 0b000100, 0b000100]      [6.0, 2.0, 2.0, 2.0]   \n",
       "\n",
       "                    Ycoords                 Zcoords  \n",
       "0  [14.0, 14.0, 18.0, 18.0]  [0.0, 7.0, 14.0, 21.0]  \n",
       "1   [nan, 22.0, 18.0, 18.0]  [0.0, 7.0, 14.0, 21.0]  \n",
       "2  [22.0, 18.0, 14.0, 10.0]  [0.0, 7.0, 14.0, 21.0]  \n",
       "3  [18.0, 18.0, 14.0, 14.0]  [0.0, 7.0, 14.0, 21.0]  \n",
       "4  [18.0, 18.0, 14.0, 14.0]  [0.0, 7.0, 14.0, 21.0]  "
      ]
     },
     "execution_count": 7,
     "metadata": {},
     "output_type": "execute_result"
    }
   ],
   "source": [
    "muondata[[\"Xcoords\", \"Ycoords\", \"Zcoords\"]] = muondata.apply(\n",
    "    lambda row: get_coordinates(row[\"XZdecoded\"], row[\"YZdecoded\"]),\n",
    "    axis=1,\n",
    "    result_type='expand'\n",
    ")\n",
    "muondata.head()"
   ]
  },
  {
   "cell_type": "markdown",
   "id": "7da33c70-a69f-4a7e-b050-3be9862878f8",
   "metadata": {},
   "source": [
    "## Fit lineare e calcolo delle coordinate sferiche\n",
    "cf. https://baltig.infn.it/iuliano/ocra_analysis/-/blob/main/CRC_Totem/DisplayCRCData.ipynb?ref_type=heads"
   ]
  },
  {
   "cell_type": "code",
   "execution_count": 8,
   "id": "533afc08-094d-40f2-8ae4-6eb0da348d8d",
   "metadata": {},
   "outputs": [],
   "source": [
    "def linearfit(xarr, zarr):\n",
    "    '''regressione lineare con le librerie astropy, della coppia di dati xarr zarr'''\n",
    "    # inizializziamo l'algoritmo di fit\n",
    "    fit = fitting.LinearLSQFitter()\n",
    "\n",
    "    # inizializziamo il modello\n",
    "    line_init = models.Linear1D()\n",
    "\n",
    "    # facciamo la regressione (n.b. z è la variabile independente, x la variabile misurata!)\n",
    "    # x = m * z + b\n",
    "    fitted_line = fit(line_init, zarr, xarr)\n",
    "    \n",
    "    return fitted_line"
   ]
  },
  {
   "cell_type": "code",
   "execution_count": 9,
   "id": "4e60a652-7ea8-4b04-9d81-b617c6040126",
   "metadata": {},
   "outputs": [],
   "source": [
    "def get_theta_phi(xarr, yarr, zarr):\n",
    "    fit_xz = linearfit(xarr, zarr)\n",
    "    xslope = fit_xz.slope.value\n",
    "\n",
    "    fit_yz = linearfit(yarr, zarr)\n",
    "    yslope = fit_yz.slope.value\n",
    "\n",
    "    vx = xslope\n",
    "    vy = yslope\n",
    "    vz = 1\n",
    "\n",
    "    v = math.sqrt(vx * vx + vy * vy + vz * vz)\n",
    "    theta = math.degrees(math.acos(vz/v))\n",
    "    phi = math.degrees(math.atan2(vy,vx))\n",
    "\n",
    "    return theta, phi"
   ]
  },
  {
   "cell_type": "code",
   "execution_count": 10,
   "id": "89e310d2-9a51-4412-882b-577153d43785",
   "metadata": {},
   "outputs": [
    {
     "data": {
      "text/html": [
       "<div>\n",
       "<style scoped>\n",
       "    .dataframe tbody tr th:only-of-type {\n",
       "        vertical-align: middle;\n",
       "    }\n",
       "\n",
       "    .dataframe tbody tr th {\n",
       "        vertical-align: top;\n",
       "    }\n",
       "\n",
       "    .dataframe thead th {\n",
       "        text-align: right;\n",
       "    }\n",
       "</style>\n",
       "<table border=\"1\" class=\"dataframe\">\n",
       "  <thead>\n",
       "    <tr style=\"text-align: right;\">\n",
       "      <th></th>\n",
       "      <th>Event Number</th>\n",
       "      <th>XZview</th>\n",
       "      <th>YZview</th>\n",
       "      <th>Date</th>\n",
       "      <th>Time</th>\n",
       "      <th>AM/PM</th>\n",
       "      <th>Meta</th>\n",
       "      <th>XZdecoded</th>\n",
       "      <th>YZdecoded</th>\n",
       "      <th>Xcoords</th>\n",
       "      <th>Ycoords</th>\n",
       "      <th>Zcoords</th>\n",
       "      <th>theta</th>\n",
       "      <th>phi</th>\n",
       "    </tr>\n",
       "  </thead>\n",
       "  <tbody>\n",
       "    <tr>\n",
       "      <th>0</th>\n",
       "      <td>6148</td>\n",
       "      <td>20202020</td>\n",
       "      <td>02020404</td>\n",
       "      <td>28/4/2025</td>\n",
       "      <td>04:19:59.268</td>\n",
       "      <td>PM</td>\n",
       "      <td>_;_;_;_;_;0,9805807;0°</td>\n",
       "      <td>[0b100000, 0b100000, 0b100000, 0b100000]</td>\n",
       "      <td>[0b000100, 0b000100, 0b000010, 0b000010]</td>\n",
       "      <td>[2.0, 2.0, 2.0, 2.0]</td>\n",
       "      <td>[14.0, 14.0, 18.0, 18.0]</td>\n",
       "      <td>[0.0, 7.0, 14.0, 21.0]</td>\n",
       "      <td>12.875002</td>\n",
       "      <td>90.000000</td>\n",
       "    </tr>\n",
       "    <tr>\n",
       "      <th>1</th>\n",
       "      <td>6149</td>\n",
       "      <td>20080201</td>\n",
       "      <td>02020100</td>\n",
       "      <td>28/4/2025</td>\n",
       "      <td>04:19:59.723</td>\n",
       "      <td>PM</td>\n",
       "      <td>_;_;_;_;_;0,6963106;104°</td>\n",
       "      <td>[0b000001, 0b000010, 0b001000, 0b100000]</td>\n",
       "      <td>[0b000000, 0b000001, 0b000010, 0b000010]</td>\n",
       "      <td>[22.0, 18.0, 10.0, 2.0]</td>\n",
       "      <td>[nan, 22.0, 18.0, 18.0]</td>\n",
       "      <td>[0.0, 7.0, 14.0, 21.0]</td>\n",
       "      <td>NaN</td>\n",
       "      <td>NaN</td>\n",
       "    </tr>\n",
       "    <tr>\n",
       "      <th>2</th>\n",
       "      <td>6150</td>\n",
       "      <td>02040408</td>\n",
       "      <td>08040201</td>\n",
       "      <td>28/4/2025</td>\n",
       "      <td>04:20:00.803</td>\n",
       "      <td>PM</td>\n",
       "      <td>_;_;_;_;_;0,8638684;210°</td>\n",
       "      <td>[0b001000, 0b000100, 0b000100, 0b000010]</td>\n",
       "      <td>[0b000001, 0b000010, 0b000100, 0b001000]</td>\n",
       "      <td>[10.0, 14.0, 14.0, 18.0]</td>\n",
       "      <td>[22.0, 18.0, 14.0, 10.0]</td>\n",
       "      <td>[0.0, 7.0, 14.0, 21.0]</td>\n",
       "      <td>33.679270</td>\n",
       "      <td>-59.036243</td>\n",
       "    </tr>\n",
       "    <tr>\n",
       "      <th>3</th>\n",
       "      <td>6151</td>\n",
       "      <td>02081020</td>\n",
       "      <td>04040202</td>\n",
       "      <td>28/4/2025</td>\n",
       "      <td>04:20:01.210</td>\n",
       "      <td>PM</td>\n",
       "      <td>_;_;_;_;_;0,8268982;252°</td>\n",
       "      <td>[0b100000, 0b010000, 0b001000, 0b000010]</td>\n",
       "      <td>[0b000010, 0b000010, 0b000100, 0b000100]</td>\n",
       "      <td>[2.0, 6.0, 10.0, 18.0]</td>\n",
       "      <td>[18.0, 18.0, 14.0, 14.0]</td>\n",
       "      <td>[0.0, 7.0, 14.0, 21.0]</td>\n",
       "      <td>37.855312</td>\n",
       "      <td>-17.102729</td>\n",
       "    </tr>\n",
       "    <tr>\n",
       "      <th>4</th>\n",
       "      <td>6152</td>\n",
       "      <td>20202010</td>\n",
       "      <td>04040202</td>\n",
       "      <td>28/4/2025</td>\n",
       "      <td>04:20:01.885</td>\n",
       "      <td>PM</td>\n",
       "      <td>_;_;_;_;_;0,9701425;143°</td>\n",
       "      <td>[0b010000, 0b100000, 0b100000, 0b100000]</td>\n",
       "      <td>[0b000010, 0b000010, 0b000100, 0b000100]</td>\n",
       "      <td>[6.0, 2.0, 2.0, 2.0]</td>\n",
       "      <td>[18.0, 18.0, 14.0, 14.0]</td>\n",
       "      <td>[0.0, 7.0, 14.0, 21.0]</td>\n",
       "      <td>15.945396</td>\n",
       "      <td>-126.869898</td>\n",
       "    </tr>\n",
       "  </tbody>\n",
       "</table>\n",
       "</div>"
      ],
      "text/plain": [
       "  Event Number    XZview    YZview       Date          Time AM/PM  \\\n",
       "0         6148  20202020  02020404  28/4/2025  04:19:59.268    PM   \n",
       "1         6149  20080201  02020100  28/4/2025  04:19:59.723    PM   \n",
       "2         6150  02040408  08040201  28/4/2025  04:20:00.803    PM   \n",
       "3         6151  02081020  04040202  28/4/2025  04:20:01.210    PM   \n",
       "4         6152  20202010  04040202  28/4/2025  04:20:01.885    PM   \n",
       "\n",
       "                       Meta                                 XZdecoded  \\\n",
       "0    _;_;_;_;_;0,9805807;0°  [0b100000, 0b100000, 0b100000, 0b100000]   \n",
       "1  _;_;_;_;_;0,6963106;104°  [0b000001, 0b000010, 0b001000, 0b100000]   \n",
       "2  _;_;_;_;_;0,8638684;210°  [0b001000, 0b000100, 0b000100, 0b000010]   \n",
       "3  _;_;_;_;_;0,8268982;252°  [0b100000, 0b010000, 0b001000, 0b000010]   \n",
       "4  _;_;_;_;_;0,9701425;143°  [0b010000, 0b100000, 0b100000, 0b100000]   \n",
       "\n",
       "                                  YZdecoded                   Xcoords  \\\n",
       "0  [0b000100, 0b000100, 0b000010, 0b000010]      [2.0, 2.0, 2.0, 2.0]   \n",
       "1  [0b000000, 0b000001, 0b000010, 0b000010]   [22.0, 18.0, 10.0, 2.0]   \n",
       "2  [0b000001, 0b000010, 0b000100, 0b001000]  [10.0, 14.0, 14.0, 18.0]   \n",
       "3  [0b000010, 0b000010, 0b000100, 0b000100]    [2.0, 6.0, 10.0, 18.0]   \n",
       "4  [0b000010, 0b000010, 0b000100, 0b000100]      [6.0, 2.0, 2.0, 2.0]   \n",
       "\n",
       "                    Ycoords                 Zcoords      theta         phi  \n",
       "0  [14.0, 14.0, 18.0, 18.0]  [0.0, 7.0, 14.0, 21.0]  12.875002   90.000000  \n",
       "1   [nan, 22.0, 18.0, 18.0]  [0.0, 7.0, 14.0, 21.0]        NaN         NaN  \n",
       "2  [22.0, 18.0, 14.0, 10.0]  [0.0, 7.0, 14.0, 21.0]  33.679270  -59.036243  \n",
       "3  [18.0, 18.0, 14.0, 14.0]  [0.0, 7.0, 14.0, 21.0]  37.855312  -17.102729  \n",
       "4  [18.0, 18.0, 14.0, 14.0]  [0.0, 7.0, 14.0, 21.0]  15.945396 -126.869898  "
      ]
     },
     "execution_count": 10,
     "metadata": {},
     "output_type": "execute_result"
    }
   ],
   "source": [
    "muondata[[\"theta\", \"phi\"]] = muondata.apply(\n",
    "    lambda row: get_theta_phi(row[\"Xcoords\"], row[\"Ycoords\"], row[\"Zcoords\"]),\n",
    "    axis=1,\n",
    "    result_type='expand'\n",
    ")\n",
    "muondata.head()"
   ]
  },
  {
   "cell_type": "markdown",
   "id": "0c4cbcfd-7848-40ac-95ad-ef2ebe60008e",
   "metadata": {},
   "source": [
    "## Calcolo della distribuzione angolare\n",
    "A questo punto possiamo realizzare degli istogrammi degli eventi in funzione di $\\theta$ e $\\phi$."
   ]
  },
  {
   "cell_type": "code",
   "execution_count": 11,
   "id": "7d1cd539-b4cc-430d-bb0c-0f89f823666c",
   "metadata": {},
   "outputs": [
    {
     "data": {
      "text/plain": [
       "8727"
      ]
     },
     "execution_count": 11,
     "metadata": {},
     "output_type": "execute_result"
    }
   ],
   "source": [
    "len(muondata)"
   ]
  },
  {
   "cell_type": "code",
   "execution_count": 12,
   "id": "d3dc0d5c-37bc-47d4-9785-1a958639128b",
   "metadata": {},
   "outputs": [
    {
     "data": {
      "text/plain": [
       "8459"
      ]
     },
     "execution_count": 12,
     "metadata": {},
     "output_type": "execute_result"
    }
   ],
   "source": [
    "# Rimuoviamo le run contenenti dati cattivi (theta o phi nan)\n",
    "bad_runs = np.isnan(muondata[\"theta\"]) | np.isnan(muondata[\"phi\"])\n",
    "muondata = muondata[~bad_runs]\n",
    "len(muondata)"
   ]
  },
  {
   "cell_type": "code",
   "execution_count": 13,
   "id": "65fd193c-acd1-418c-b78f-29ac74e03857",
   "metadata": {},
   "outputs": [],
   "source": [
    "n_bins = 5\n",
    "counts, theta_bins, phi_bins = np.histogram2d(muondata[\"theta\"], muondata[\"phi\"], bins=n_bins)"
   ]
  },
  {
   "cell_type": "code",
   "execution_count": 14,
   "id": "e31ccbfb-6206-4762-ad67-a146df089d77",
   "metadata": {},
   "outputs": [
    {
     "data": {
      "text/plain": [
       "array([[ 30., 181., 278., 395., 152.],\n",
       "       [428., 554., 400., 567., 606.],\n",
       "       [579., 748., 550., 442., 601.],\n",
       "       [350., 399., 363., 218., 277.],\n",
       "       [ 95.,  82.,  55.,  46.,  63.]])"
      ]
     },
     "execution_count": 14,
     "metadata": {},
     "output_type": "execute_result"
    }
   ],
   "source": [
    "counts"
   ]
  },
  {
   "cell_type": "code",
   "execution_count": 15,
   "id": "6fa90a32-9c9b-4043-9725-b7de793d2a62",
   "metadata": {},
   "outputs": [
    {
     "data": {
      "text/plain": [
       "Text(0, 0.5, 'Counts')"
      ]
     },
     "execution_count": 15,
     "metadata": {},
     "output_type": "execute_result"
    },
    {
     "data": {
      "image/png": "[encoded data removed]",
      "text/plain": [
       "<Figure size 640x480 with 1 Axes>"
      ]
     },
     "metadata": {},
     "output_type": "display_data"
    }
   ],
   "source": [
    "# Plot theta histogram\n",
    "plt.hist(muondata[\"theta\"], theta_bins)\n",
    "plt.xlabel(r'$\\theta$ [deg]')\n",
    "plt.ylabel('Counts')"
   ]
  },
  {
   "cell_type": "code",
   "execution_count": 16,
   "id": "35b75eda-8ad7-4e39-8b12-79c208b7e68f",
   "metadata": {},
   "outputs": [
    {
     "data": {
      "text/plain": [
       "Text(0, 0.5, 'Counts')"
      ]
     },
     "execution_count": 16,
     "metadata": {},
     "output_type": "execute_result"
    },
    {
     "data": {
      "image/png": "[encoded data removed]",
      "text/plain": [
       "<Figure size 640x480 with 1 Axes>"
      ]
     },
     "metadata": {},
     "output_type": "display_data"
    }
   ],
   "source": [
    "# Plot phi histogram\n",
    "plt.hist(muondata[\"phi\"], phi_bins)\n",
    "plt.xlabel(r'$\\phi$ [deg]')\n",
    "plt.ylabel('Counts')"
   ]
  },
  {
   "cell_type": "code",
   "execution_count": 17,
   "id": "dfa825ef-cbaa-4f1d-87d2-634fd8f3c9d3",
   "metadata": {},
   "outputs": [
    {
     "data": {
      "text/plain": [
       "(array([[ 30., 181., 278., 395., 152.],\n",
       "        [428., 554., 400., 567., 606.],\n",
       "        [579., 748., 550., 442., 601.],\n",
       "        [350., 399., 363., 218., 277.],\n",
       "        [ 95.,  82.,  55.,  46.,  63.]]),\n",
       " array([ 0.        , 10.79920937, 21.59841874, 32.39762812, 43.19683749,\n",
       "        53.99604686]),\n",
       " array([-178.56790382, -106.85432305,  -35.14074229,   36.57283847,\n",
       "         108.28641924,  180.        ]),\n",
       " <matplotlib.collections.QuadMesh at 0x7f907febc6d0>)"
      ]
     },
     "execution_count": 17,
     "metadata": {},
     "output_type": "execute_result"
    },
    {
     "data": {
      "image/png": "[encoded data removed]",
      "text/plain": [
       "<Figure size 640x480 with 1 Axes>"
      ]
     },
     "metadata": {},
     "output_type": "display_data"
    }
   ],
   "source": [
    "plt.hist2d(muondata[\"theta\"], muondata[\"phi\"], bins=n_bins)"
   ]
  },
  {
   "cell_type": "markdown",
   "id": "a817f819-4958-43d0-9caa-3bf893dea6a8",
   "metadata": {},
   "source": [
    "## Calcolo del flusso angolare\n",
    "Seguiamo la formula\n",
    "$$\n",
    "    \\phi(\\theta,\\phi)=\\frac{N(\\theta,\\phi)}{T_{\\rm obs}A_{\\rm eff}(\\theta,\\phi)\\Delta\\Omega}\n",
    "$$\n",
    "\n",
    "dove $N$ è il numero di conteggi, $T_{\\rm obs}$ è il tempo di osservazione, $A_{\\rm eff}$ è l'area efficace (vedere il notebook dedicato) e $\\Delta\\Omega=\\sin\\theta\\Delta\\theta\\Delta\\phi$ è l'elemento di angolo solido considerato."
   ]
  },
  {
   "cell_type": "markdown",
   "id": "cdca6534-dc70-4294-be17-1278a1fcfc6f",
   "metadata": {},
   "source": [
    "Convertiamo tutti gli angoli in radianti e calcoliamo l'elemento di angolo solido al variare di $\\theta$:\n"
   ]
  },
  {
   "cell_type": "code",
   "execution_count": 18,
   "id": "30cbd8ac-dc63-4d82-97c5-b15d34344967",
   "metadata": {},
   "outputs": [],
   "source": [
    "dtheta = np.deg2rad(np.diff(theta_bins)[0])\n",
    "dphi = np.deg2rad(np.diff(phi_bins)[0])\n",
    "theta_center = np.deg2rad(theta_bins[:-1] + dtheta/2)\n",
    "phi_center = np.deg2rad(phi_bins[:-1] + dtheta/2)"
   ]
  },
  {
   "cell_type": "code",
   "execution_count": 19,
   "id": "7738bf52-30c1-4998-acbc-e372717b39c8",
   "metadata": {},
   "outputs": [],
   "source": [
    "domega = np.sin(theta_center)*dtheta*dphi"
   ]
  },
  {
   "cell_type": "markdown",
   "id": "84ab0ad8-bddd-4969-814b-7161ece23865",
   "metadata": {},
   "source": [
    "Calcoliamo il tempo di osservazione dalla tabella dei dati:"
   ]
  },
  {
   "cell_type": "code",
   "execution_count": 21,
   "id": "f4120b2a-f2ee-4ae4-87f5-392792484bfa",
   "metadata": {},
   "outputs": [],
   "source": [
    "# times = muondata[\"Time\"].astype('float')\n",
    "# t = max(times) - min(times)\n",
    "# print('Tempo di osservazione:', t, 's')"
   ]
  },
  {
   "cell_type": "code",
   "execution_count": 22,
   "id": "f784d707-5428-4dfe-88ac-1a01462e4c9f",
   "metadata": {},
   "outputs": [
    {
     "name": "stdout",
     "output_type": "stream",
     "text": [
      "Tempo di osservazione: 5829.408 s\n"
     ]
    }
   ],
   "source": [
    "# For software version >= v2.10\n",
    "from datetime import datetime\n",
    "datetimes = [datetime.strptime(d+' '+t+' '+ p, '%d/%m/%Y %I:%M:%S.%f %p') for (d,t,p) in zip(muondata[\"Date\"], muondata[\"Time\"], muondata[\"AM/PM\"])]\n",
    "t = (max(datetimes) - min(datetimes)).total_seconds()\n",
    "print('Tempo di osservazione:', t, 's')"
   ]
  },
  {
   "cell_type": "markdown",
   "id": "2a4dc9db-bfc5-4cd5-80e6-85d72980edeb",
   "metadata": {},
   "source": [
    "Per l'area efficace, definiamo la funzione apposita, specificando le dimensioni del cubo e il numero dei piani di trigger:"
   ]
  },
  {
   "cell_type": "code",
   "execution_count": 23,
   "id": "ddd24fe6-e3e8-46dc-a8f0-e0afdf2cc797",
   "metadata": {},
   "outputs": [],
   "source": [
    "L = 24\n",
    "n = 4\n",
    "def aeff(L, n, theta, phi):\n",
    "    if phi < 0 or phi > np.pi/4:\n",
    "        phi_original = phi\n",
    "        phi = phi % (np.pi/2)             # Wrap into [0, pi/2]\n",
    "        phi = min(phi, np.pi/2 - phi)     # Fold into [0, pi/4]\n",
    "        # print('Converting phi:', phi_original/np.pi, 'pi ->', phi/np.pi, 'pi')\n",
    "    return L**2*((1/np.cos(phi)-(n/4)*np.tan(theta))*np.cos(phi)*np.cos(theta)*(1-np.tan(phi))+(1/np.cos(phi)**2+(n**2/16)*np.tan(theta)**2-(n/(2*np.cos(phi)))*np.tan(theta))*np.cos(phi)*np.sin(phi)*np.cos(theta))"
   ]
  },
  {
   "cell_type": "markdown",
   "id": "2193756e-d213-40fd-b12f-3002632086ab",
   "metadata": {},
   "source": [
    "Abbiamo quindi tutti gli elementi per calcolare il flusso in funzione di $\\theta$ e $\\phi$:"
   ]
  },
  {
   "cell_type": "code",
   "execution_count": 24,
   "id": "d6d1d57d-aabf-4eec-9dd2-b7307672c7ad",
   "metadata": {},
   "outputs": [],
   "source": [
    "flux = np.array([[None for _ in theta_center] for _ in phi_center])\n",
    "dflux = np.array([[None for _ in theta_center] for _ in phi_center])"
   ]
  },
  {
   "cell_type": "code",
   "execution_count": 25,
   "id": "f0ec0062-6ebe-4e9f-8459-8758e2b50108",
   "metadata": {},
   "outputs": [],
   "source": [
    "for (i,th) in enumerate(theta_center):\n",
    "    for (j,ph) in enumerate(phi_center):\n",
    "        a = aeff(L, n, th, ph)\n",
    "        flux[i,j] = counts[i,j]/(t*a*domega[i])\n",
    "        dflux[i,j] = np.sqrt(counts[i,j])/(t*a*domega[i])"
   ]
  },
  {
   "cell_type": "code",
   "execution_count": 26,
   "id": "175ce0dc-67ee-4b26-ac78-f9e113036024",
   "metadata": {},
   "outputs": [
    {
     "data": {
      "text/plain": [
       "array([np.float64(0.0006129904323330786),\n",
       "       np.float64(2.0124905287808288e-07),\n",
       "       np.float64(1.3267251255973037e-07),\n",
       "       np.float64(1.2233469114744152e-07),\n",
       "       np.float64(4.216083684358218e-07)], dtype=object)"
      ]
     },
     "execution_count": 26,
     "metadata": {},
     "output_type": "execute_result"
    }
   ],
   "source": [
    "np.sum(dflux**2, axis=1)"
   ]
  },
  {
   "cell_type": "code",
   "execution_count": 27,
   "id": "a8ad5d59-3f24-46cc-92d3-3c84e5705d49",
   "metadata": {},
   "outputs": [],
   "source": [
    "flux_theta = np.sum(flux, axis=1)*dphi\n",
    "dflux_theta = [np.sqrt(x)*dphi for x in np.sum(dflux**2, axis=1)]"
   ]
  },
  {
   "cell_type": "code",
   "execution_count": 28,
   "id": "efcac920-1664-4c77-a654-897f9b6f84b4",
   "metadata": {},
   "outputs": [],
   "source": [
    "from scipy.optimize import curve_fit\n",
    "def model(theta, p0, p1):\n",
    "    return p0 + p1 * np.cos(theta)**2\n",
    "\n",
    "popt, pcov = curve_fit(model, theta_center[1:], flux_theta[1:])\n",
    "p0, p1 = popt\n",
    "\n",
    "theta_fit = np.linspace(0, np.pi, 1000)\n",
    "y_fit = model(theta_fit, *popt)"
   ]
  },
  {
   "cell_type": "code",
   "execution_count": 30,
   "id": "ea0ae89a-2f6e-4894-b8ea-ce3e553d1758",
   "metadata": {},
   "outputs": [
    {
     "data": {
      "text/plain": [
       "<matplotlib.legend.Legend at 0x7f91f8296750>"
      ]
     },
     "execution_count": 30,
     "metadata": {},
     "output_type": "execute_result"
    },
    {
     "data": {
      "image/png": "[encoded data removed]",
      "text/plain": [
       "<Figure size 640x480 with 1 Axes>"
      ]
     },
     "metadata": {},
     "output_type": "display_data"
    }
   ],
   "source": [
    "plt.errorbar(theta_center[1:], flux_theta[1:], yerr=dflux_theta[1:], marker='.', label='dati CRC')\n",
    "# plt.errorbar(theta_center, flux_theta, yerr=dflux_theta, marker='.', label='dati CRC')\n",
    "plt.plot(theta_fit, y_fit, label=r'fit $p_0 + p_1\\cos^2\\theta$')\n",
    "plt.xlabel(r'$\\theta$ [rad]')\n",
    "plt.ylabel(r'$\\Phi$ [cm$^{-2}$ s$^{-1}$ rad$^{-1}$]')\n",
    "plt.xlim([-.03, 1.1*max(theta_center)])\n",
    "plt.ylim(bottom=.7*min(flux_theta))\n",
    "plt.yscale('log')\n",
    "plt.legend()"
   ]
  },
  {
   "cell_type": "code",
   "execution_count": null,
   "id": "4fb176a5-186e-4898-a9b3-ee9cd303fb55",
   "metadata": {},
   "outputs": [],
   "source": []
  }
 ],
 "metadata": {
  "kernelspec": {
   "display_name": "gammapy-1.3",
   "language": "python",
   "name": "gammapy-1.3"
  },
  "language_info": {
   "codemirror_mode": {
    "name": "ipython",
    "version": 3
   },
   "file_extension": ".py",
   "mimetype": "text/x-python",
   "name": "python",
   "nbconvert_exporter": "python",
   "pygments_lexer": "ipython3",
   "version": "3.11.11"
  }
 },
 "nbformat": 4,
 "nbformat_minor": 5
}
