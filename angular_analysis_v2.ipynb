{
 "cells": [
  {
   "cell_type": "markdown",
   "id": "0ea2c63d-71ca-4b1a-899e-9305c9d45c34",
   "metadata": {},
   "source": [
    "# Analisi dati del CRC\n",
    "Questo notebook è parzialmente basato sui notebook di Antonio Iuliano: https://baltig.infn.it/iuliano/ocra_analysis/-/blob/main/CRC_Totem/CRCQuality.ipynb?ref_type=heads e https://baltig.infn.it/iuliano/ocra_analysis/-/blob/main/CRC_Totem/DisplayCRCData.ipynb?ref_type=heads\n",
    "\n",
    "In questa variante, anziché ricostruire \"manualmente\" le tracce e le coordinate angolari, utilizziamo direttamente i valori forniti dall'ultima versione dell'app (v 2.10) "
   ]
  },
  {
   "cell_type": "code",
   "execution_count": 1,
   "id": "e986bdd3-83fa-4007-bd99-563e876aecfa",
   "metadata": {},
   "outputs": [],
   "source": [
    "import math\n",
    "import numpy as np\n",
    "import pandas as pd\n",
    "import matplotlib.pyplot as plt\n",
    "from datetime import datetime\n",
    "from astropy.modeling import models, fitting"
   ]
  },
  {
   "cell_type": "code",
   "execution_count": 2,
   "id": "90968145-a8d2-4ccb-b5d3-4c5c2c233c86",
   "metadata": {},
   "outputs": [],
   "source": [
    "data_file = \"./data/CRC-4 LNGS 28-04-2025 21-51-35.txt\"\n",
    "crc_ver = '2.10'"
   ]
  },
  {
   "cell_type": "markdown",
   "id": "921c2638-6993-4231-93db-eccf31fef11b",
   "metadata": {},
   "source": [
    "## Lettura dei dati\n",
    "cf. https://baltig.infn.it/iuliano/ocra_analysis/-/blob/main/CRC_Totem/CRCQuality.ipynb?ref_type=heads"
   ]
  },
  {
   "cell_type": "code",
   "execution_count": 3,
   "id": "d2570c82-31e2-4260-8e25-f681006b617a",
   "metadata": {},
   "outputs": [],
   "source": [
    "def convertdata(xnumber,verbose = False):\n",
    " '''converte i dati dal CRC in binario, con l'informazione dei piani accesi\n",
    "    xnumber: numero del piano;\n",
    "    verbose: se True, stampa a schermo i numeri convertiti per controllo\n",
    " '''\n",
    " nplanes = 4\n",
    " planes=[] #lista di destinazione\n",
    " for iplane in range(nplanes-1,-1,-1): #ciclo da 3 a 0\n",
    "  #convertiamo i numeri da esadecimale, per ognuno dei 4 piani\n",
    "  planecode = int(xnumber[2*iplane:2*iplane+2],16)\n",
    "  if (verbose):\n",
    "   #stampiamo le informazioni dei piani\n",
    "   print(format(planecode,\"#08b\")) #08b è il formato binario, con gli zeri a monte lasciati per vedere i piani spenti\n",
    "  planes.append(format(planecode,\"#08b\")) #aggiungiamo il piano alla lista di uscita\n",
    " return planes "
   ]
  },
  {
   "cell_type": "code",
   "execution_count": 4,
   "id": "4ce3afb2-8905-4ed7-98d5-5592c56a18db",
   "metadata": {},
   "outputs": [
    {
     "data": {
      "text/html": [
       "<div>\n",
       "<style scoped>\n",
       "    .dataframe tbody tr th:only-of-type {\n",
       "        vertical-align: middle;\n",
       "    }\n",
       "\n",
       "    .dataframe tbody tr th {\n",
       "        vertical-align: top;\n",
       "    }\n",
       "\n",
       "    .dataframe thead th {\n",
       "        text-align: right;\n",
       "    }\n",
       "</style>\n",
       "<table border=\"1\" class=\"dataframe\">\n",
       "  <thead>\n",
       "    <tr style=\"text-align: right;\">\n",
       "      <th></th>\n",
       "      <th>Event Number</th>\n",
       "      <th>XZview</th>\n",
       "      <th>YZview</th>\n",
       "      <th>Date</th>\n",
       "      <th>Time</th>\n",
       "      <th>AM/PM</th>\n",
       "      <th>Meta</th>\n",
       "    </tr>\n",
       "  </thead>\n",
       "  <tbody>\n",
       "    <tr>\n",
       "      <th>0</th>\n",
       "      <td>4088</td>\n",
       "      <td>01020408</td>\n",
       "      <td>02040408</td>\n",
       "      <td>28/4/2025</td>\n",
       "      <td>09:51:35.032</td>\n",
       "      <td>PM</td>\n",
       "      <td>_;_;_;_;_;0,8638684;300°</td>\n",
       "    </tr>\n",
       "    <tr>\n",
       "      <th>1</th>\n",
       "      <td>4089</td>\n",
       "      <td>02020101</td>\n",
       "      <td>20201010</td>\n",
       "      <td>28/4/2025</td>\n",
       "      <td>09:51:35.207</td>\n",
       "      <td>PM</td>\n",
       "      <td>_;_;_;_;_;0,9622505;135°</td>\n",
       "    </tr>\n",
       "    <tr>\n",
       "      <th>2</th>\n",
       "      <td>4090</td>\n",
       "      <td>08180818</td>\n",
       "      <td>283C0A09</td>\n",
       "      <td>28/4/2025</td>\n",
       "      <td>09:51:35.614</td>\n",
       "      <td>PM</td>\n",
       "      <td>_;_;_;_;_;0,9050967;183°</td>\n",
       "    </tr>\n",
       "    <tr>\n",
       "      <th>3</th>\n",
       "      <td>4091</td>\n",
       "      <td>08080402</td>\n",
       "      <td>20100402</td>\n",
       "      <td>28/4/2025</td>\n",
       "      <td>09:51:35.859</td>\n",
       "      <td>PM</td>\n",
       "      <td>_;_;_;_;_;0,7874992;153°</td>\n",
       "    </tr>\n",
       "    <tr>\n",
       "      <th>4</th>\n",
       "      <td>4092</td>\n",
       "      <td>04080808</td>\n",
       "      <td>02020202</td>\n",
       "      <td>28/4/2025</td>\n",
       "      <td>09:51:36.080</td>\n",
       "      <td>PM</td>\n",
       "      <td>_;_;_;_;_;0,9889364;270°</td>\n",
       "    </tr>\n",
       "  </tbody>\n",
       "</table>\n",
       "</div>"
      ],
      "text/plain": [
       "  Event Number    XZview    YZview       Date          Time AM/PM  \\\n",
       "0         4088  01020408  02040408  28/4/2025  09:51:35.032    PM   \n",
       "1         4089  02020101  20201010  28/4/2025  09:51:35.207    PM   \n",
       "2         4090  08180818  283C0A09  28/4/2025  09:51:35.614    PM   \n",
       "3         4091  08080402  20100402  28/4/2025  09:51:35.859    PM   \n",
       "4         4092  04080808  02020202  28/4/2025  09:51:36.080    PM   \n",
       "\n",
       "                       Meta  \n",
       "0  _;_;_;_;_;0,8638684;300°  \n",
       "1  _;_;_;_;_;0,9622505;135°  \n",
       "2  _;_;_;_;_;0,9050967;183°  \n",
       "3  _;_;_;_;_;0,7874992;153°  \n",
       "4  _;_;_;_;_;0,9889364;270°  "
      ]
     },
     "execution_count": 4,
     "metadata": {},
     "output_type": "execute_result"
    }
   ],
   "source": [
    "muondata = pd.read_csv(data_file,header=None,sep=\" \",dtype=str)\n",
    "if crc_ver == '2.4':\n",
    "    muondata.columns = [\"Event Number\",\"YZview\",\"XZview\",\"Time\"] #first Y, then X\n",
    "elif crc_ver == '2.10':\n",
    "    ### NB: Usare la linea seguente per i dati acquisiti con l'app >=v2.10\n",
    "    muondata.columns = [\"Event Number\",\"XZview\",\"YZview\",\"Date\",\"Time\",\"AM/PM\",\"Meta\"]\n",
    "\n",
    "muondata.head()"
   ]
  },
  {
   "cell_type": "code",
   "execution_count": 5,
   "id": "69b0acce-4eda-420f-960b-b06d6e69793e",
   "metadata": {},
   "outputs": [
    {
     "name": "stdout",
     "output_type": "stream",
     "text": [
      "Length before quality selection: 48956\n",
      "Length after quality selection: 48949\n"
     ]
    }
   ],
   "source": [
    "# Some rows have bad data (less than 8 hex digits)\n",
    "quality_selection = np.bitwise_and([len(str(x))==8 for x in muondata[\"XZview\"]], [len(str(x))==8 for x in muondata[\"YZview\"]])\n",
    "print('Length before quality selection:', len(muondata))\n",
    "muondata = muondata[quality_selection]\n",
    "print('Length after quality selection:', len(muondata))"
   ]
  },
  {
   "cell_type": "code",
   "execution_count": 6,
   "id": "9e5c78b4-b608-4b6b-81ff-5f1e72efc639",
   "metadata": {},
   "outputs": [
    {
     "data": {
      "text/html": [
       "<div>\n",
       "<style scoped>\n",
       "    .dataframe tbody tr th:only-of-type {\n",
       "        vertical-align: middle;\n",
       "    }\n",
       "\n",
       "    .dataframe tbody tr th {\n",
       "        vertical-align: top;\n",
       "    }\n",
       "\n",
       "    .dataframe thead th {\n",
       "        text-align: right;\n",
       "    }\n",
       "</style>\n",
       "<table border=\"1\" class=\"dataframe\">\n",
       "  <thead>\n",
       "    <tr style=\"text-align: right;\">\n",
       "      <th></th>\n",
       "      <th>Event Number</th>\n",
       "      <th>XZview</th>\n",
       "      <th>YZview</th>\n",
       "      <th>Date</th>\n",
       "      <th>Time</th>\n",
       "      <th>AM/PM</th>\n",
       "      <th>Meta</th>\n",
       "      <th>XZdecoded</th>\n",
       "      <th>YZdecoded</th>\n",
       "    </tr>\n",
       "  </thead>\n",
       "  <tbody>\n",
       "    <tr>\n",
       "      <th>0</th>\n",
       "      <td>4088</td>\n",
       "      <td>01020408</td>\n",
       "      <td>02040408</td>\n",
       "      <td>28/4/2025</td>\n",
       "      <td>09:51:35.032</td>\n",
       "      <td>PM</td>\n",
       "      <td>_;_;_;_;_;0,8638684;300°</td>\n",
       "      <td>[0b001000, 0b000100, 0b000010, 0b000001]</td>\n",
       "      <td>[0b001000, 0b000100, 0b000100, 0b000010]</td>\n",
       "    </tr>\n",
       "    <tr>\n",
       "      <th>1</th>\n",
       "      <td>4089</td>\n",
       "      <td>02020101</td>\n",
       "      <td>20201010</td>\n",
       "      <td>28/4/2025</td>\n",
       "      <td>09:51:35.207</td>\n",
       "      <td>PM</td>\n",
       "      <td>_;_;_;_;_;0,9622505;135°</td>\n",
       "      <td>[0b000001, 0b000001, 0b000010, 0b000010]</td>\n",
       "      <td>[0b010000, 0b010000, 0b100000, 0b100000]</td>\n",
       "    </tr>\n",
       "    <tr>\n",
       "      <th>2</th>\n",
       "      <td>4090</td>\n",
       "      <td>08180818</td>\n",
       "      <td>283C0A09</td>\n",
       "      <td>28/4/2025</td>\n",
       "      <td>09:51:35.614</td>\n",
       "      <td>PM</td>\n",
       "      <td>_;_;_;_;_;0,9050967;183°</td>\n",
       "      <td>[0b011000, 0b001000, 0b011000, 0b001000]</td>\n",
       "      <td>[0b001001, 0b001010, 0b111100, 0b101000]</td>\n",
       "    </tr>\n",
       "    <tr>\n",
       "      <th>3</th>\n",
       "      <td>4091</td>\n",
       "      <td>08080402</td>\n",
       "      <td>20100402</td>\n",
       "      <td>28/4/2025</td>\n",
       "      <td>09:51:35.859</td>\n",
       "      <td>PM</td>\n",
       "      <td>_;_;_;_;_;0,7874992;153°</td>\n",
       "      <td>[0b000010, 0b000100, 0b001000, 0b001000]</td>\n",
       "      <td>[0b000010, 0b000100, 0b010000, 0b100000]</td>\n",
       "    </tr>\n",
       "    <tr>\n",
       "      <th>4</th>\n",
       "      <td>4092</td>\n",
       "      <td>04080808</td>\n",
       "      <td>02020202</td>\n",
       "      <td>28/4/2025</td>\n",
       "      <td>09:51:36.080</td>\n",
       "      <td>PM</td>\n",
       "      <td>_;_;_;_;_;0,9889364;270°</td>\n",
       "      <td>[0b001000, 0b001000, 0b001000, 0b000100]</td>\n",
       "      <td>[0b000010, 0b000010, 0b000010, 0b000010]</td>\n",
       "    </tr>\n",
       "  </tbody>\n",
       "</table>\n",
       "</div>"
      ],
      "text/plain": [
       "  Event Number    XZview    YZview       Date          Time AM/PM  \\\n",
       "0         4088  01020408  02040408  28/4/2025  09:51:35.032    PM   \n",
       "1         4089  02020101  20201010  28/4/2025  09:51:35.207    PM   \n",
       "2         4090  08180818  283C0A09  28/4/2025  09:51:35.614    PM   \n",
       "3         4091  08080402  20100402  28/4/2025  09:51:35.859    PM   \n",
       "4         4092  04080808  02020202  28/4/2025  09:51:36.080    PM   \n",
       "\n",
       "                       Meta                                 XZdecoded  \\\n",
       "0  _;_;_;_;_;0,8638684;300°  [0b001000, 0b000100, 0b000010, 0b000001]   \n",
       "1  _;_;_;_;_;0,9622505;135°  [0b000001, 0b000001, 0b000010, 0b000010]   \n",
       "2  _;_;_;_;_;0,9050967;183°  [0b011000, 0b001000, 0b011000, 0b001000]   \n",
       "3  _;_;_;_;_;0,7874992;153°  [0b000010, 0b000100, 0b001000, 0b001000]   \n",
       "4  _;_;_;_;_;0,9889364;270°  [0b001000, 0b001000, 0b001000, 0b000100]   \n",
       "\n",
       "                                  YZdecoded  \n",
       "0  [0b001000, 0b000100, 0b000100, 0b000010]  \n",
       "1  [0b010000, 0b010000, 0b100000, 0b100000]  \n",
       "2  [0b001001, 0b001010, 0b111100, 0b101000]  \n",
       "3  [0b000010, 0b000100, 0b010000, 0b100000]  \n",
       "4  [0b000010, 0b000010, 0b000010, 0b000010]  "
      ]
     },
     "execution_count": 6,
     "metadata": {},
     "output_type": "execute_result"
    }
   ],
   "source": [
    "muondata[\"XZdecoded\"]=muondata[\"XZview\"].apply(convertdata)\n",
    "muondata[\"YZdecoded\"]=muondata[\"YZview\"].apply(convertdata)\n",
    "muondata.head()"
   ]
  },
  {
   "cell_type": "code",
   "execution_count": 7,
   "id": "677af5f4-3979-4b38-af4f-91b821cb1624",
   "metadata": {},
   "outputs": [],
   "source": [
    "def get_ctheta_phi(meta_string):\n",
    "    contents = meta_string.split(';')\n",
    "    ctheta = contents[-2].replace(',', '.')\n",
    "    phi_deg = contents[-1].strip(\"°\")\n",
    "    return float(ctheta), float(phi_deg)"
   ]
  },
  {
   "cell_type": "code",
   "execution_count": 8,
   "id": "89e310d2-9a51-4412-882b-577153d43785",
   "metadata": {},
   "outputs": [
    {
     "data": {
      "text/html": [
       "<div>\n",
       "<style scoped>\n",
       "    .dataframe tbody tr th:only-of-type {\n",
       "        vertical-align: middle;\n",
       "    }\n",
       "\n",
       "    .dataframe tbody tr th {\n",
       "        vertical-align: top;\n",
       "    }\n",
       "\n",
       "    .dataframe thead th {\n",
       "        text-align: right;\n",
       "    }\n",
       "</style>\n",
       "<table border=\"1\" class=\"dataframe\">\n",
       "  <thead>\n",
       "    <tr style=\"text-align: right;\">\n",
       "      <th></th>\n",
       "      <th>Event Number</th>\n",
       "      <th>XZview</th>\n",
       "      <th>YZview</th>\n",
       "      <th>Date</th>\n",
       "      <th>Time</th>\n",
       "      <th>AM/PM</th>\n",
       "      <th>Meta</th>\n",
       "      <th>XZdecoded</th>\n",
       "      <th>YZdecoded</th>\n",
       "      <th>cos theta</th>\n",
       "      <th>phi</th>\n",
       "    </tr>\n",
       "  </thead>\n",
       "  <tbody>\n",
       "    <tr>\n",
       "      <th>0</th>\n",
       "      <td>4088</td>\n",
       "      <td>01020408</td>\n",
       "      <td>02040408</td>\n",
       "      <td>28/4/2025</td>\n",
       "      <td>09:51:35.032</td>\n",
       "      <td>PM</td>\n",
       "      <td>_;_;_;_;_;0,8638684;300°</td>\n",
       "      <td>[0b001000, 0b000100, 0b000010, 0b000001]</td>\n",
       "      <td>[0b001000, 0b000100, 0b000100, 0b000010]</td>\n",
       "      <td>0.863868</td>\n",
       "      <td>300.0</td>\n",
       "    </tr>\n",
       "    <tr>\n",
       "      <th>1</th>\n",
       "      <td>4089</td>\n",
       "      <td>02020101</td>\n",
       "      <td>20201010</td>\n",
       "      <td>28/4/2025</td>\n",
       "      <td>09:51:35.207</td>\n",
       "      <td>PM</td>\n",
       "      <td>_;_;_;_;_;0,9622505;135°</td>\n",
       "      <td>[0b000001, 0b000001, 0b000010, 0b000010]</td>\n",
       "      <td>[0b010000, 0b010000, 0b100000, 0b100000]</td>\n",
       "      <td>0.962251</td>\n",
       "      <td>135.0</td>\n",
       "    </tr>\n",
       "    <tr>\n",
       "      <th>2</th>\n",
       "      <td>4090</td>\n",
       "      <td>08180818</td>\n",
       "      <td>283C0A09</td>\n",
       "      <td>28/4/2025</td>\n",
       "      <td>09:51:35.614</td>\n",
       "      <td>PM</td>\n",
       "      <td>_;_;_;_;_;0,9050967;183°</td>\n",
       "      <td>[0b011000, 0b001000, 0b011000, 0b001000]</td>\n",
       "      <td>[0b001001, 0b001010, 0b111100, 0b101000]</td>\n",
       "      <td>0.905097</td>\n",
       "      <td>183.0</td>\n",
       "    </tr>\n",
       "    <tr>\n",
       "      <th>3</th>\n",
       "      <td>4091</td>\n",
       "      <td>08080402</td>\n",
       "      <td>20100402</td>\n",
       "      <td>28/4/2025</td>\n",
       "      <td>09:51:35.859</td>\n",
       "      <td>PM</td>\n",
       "      <td>_;_;_;_;_;0,7874992;153°</td>\n",
       "      <td>[0b000010, 0b000100, 0b001000, 0b001000]</td>\n",
       "      <td>[0b000010, 0b000100, 0b010000, 0b100000]</td>\n",
       "      <td>0.787499</td>\n",
       "      <td>153.0</td>\n",
       "    </tr>\n",
       "    <tr>\n",
       "      <th>4</th>\n",
       "      <td>4092</td>\n",
       "      <td>04080808</td>\n",
       "      <td>02020202</td>\n",
       "      <td>28/4/2025</td>\n",
       "      <td>09:51:36.080</td>\n",
       "      <td>PM</td>\n",
       "      <td>_;_;_;_;_;0,9889364;270°</td>\n",
       "      <td>[0b001000, 0b001000, 0b001000, 0b000100]</td>\n",
       "      <td>[0b000010, 0b000010, 0b000010, 0b000010]</td>\n",
       "      <td>0.988936</td>\n",
       "      <td>270.0</td>\n",
       "    </tr>\n",
       "  </tbody>\n",
       "</table>\n",
       "</div>"
      ],
      "text/plain": [
       "  Event Number    XZview    YZview       Date          Time AM/PM  \\\n",
       "0         4088  01020408  02040408  28/4/2025  09:51:35.032    PM   \n",
       "1         4089  02020101  20201010  28/4/2025  09:51:35.207    PM   \n",
       "2         4090  08180818  283C0A09  28/4/2025  09:51:35.614    PM   \n",
       "3         4091  08080402  20100402  28/4/2025  09:51:35.859    PM   \n",
       "4         4092  04080808  02020202  28/4/2025  09:51:36.080    PM   \n",
       "\n",
       "                       Meta                                 XZdecoded  \\\n",
       "0  _;_;_;_;_;0,8638684;300°  [0b001000, 0b000100, 0b000010, 0b000001]   \n",
       "1  _;_;_;_;_;0,9622505;135°  [0b000001, 0b000001, 0b000010, 0b000010]   \n",
       "2  _;_;_;_;_;0,9050967;183°  [0b011000, 0b001000, 0b011000, 0b001000]   \n",
       "3  _;_;_;_;_;0,7874992;153°  [0b000010, 0b000100, 0b001000, 0b001000]   \n",
       "4  _;_;_;_;_;0,9889364;270°  [0b001000, 0b001000, 0b001000, 0b000100]   \n",
       "\n",
       "                                  YZdecoded  cos theta    phi  \n",
       "0  [0b001000, 0b000100, 0b000100, 0b000010]   0.863868  300.0  \n",
       "1  [0b010000, 0b010000, 0b100000, 0b100000]   0.962251  135.0  \n",
       "2  [0b001001, 0b001010, 0b111100, 0b101000]   0.905097  183.0  \n",
       "3  [0b000010, 0b000100, 0b010000, 0b100000]   0.787499  153.0  \n",
       "4  [0b000010, 0b000010, 0b000010, 0b000010]   0.988936  270.0  "
      ]
     },
     "execution_count": 8,
     "metadata": {},
     "output_type": "execute_result"
    }
   ],
   "source": [
    "muondata[[\"cos theta\", \"phi\"]] = muondata.apply(\n",
    "    lambda row: get_ctheta_phi(row[\"Meta\"]),\n",
    "    axis=1,\n",
    "    result_type='expand'\n",
    ")\n",
    "muondata.head()"
   ]
  },
  {
   "cell_type": "markdown",
   "id": "25d3ce90-05d1-472f-862b-ab8d0531c579",
   "metadata": {
    "jp-MarkdownHeadingCollapsed": true
   },
   "source": [
    "## Controllo della qualità dei dati\n",
    "Filtriamo i dati imponendo che sia verificata una di queste condizioni:\n",
    "* Ogni piano ha un solo canale acceso (e.g. `0b001000`)\n",
    "* Ogni piano ha al massimo due bit adiacenti accesi (e.g. `0b011000`)\n",
    "\n",
    "Gli altri eventi vengono scartati."
   ]
  },
  {
   "cell_type": "code",
   "execution_count": 25,
   "id": "c6385ac6-7d8c-47ac-84f1-1827df273741",
   "metadata": {},
   "outputs": [],
   "source": [
    "size_before_qc = len(muondata)"
   ]
  },
  {
   "cell_type": "code",
   "execution_count": 26,
   "id": "732df374-e54e-46e7-8ae7-e4e9351a1386",
   "metadata": {},
   "outputs": [],
   "source": [
    "# Credit: ChatGPT\n",
    "def is_valid(planes):\n",
    "    for x in planes:\n",
    "        # Count the number of 1s\n",
    "        ones = x.count('1')\n",
    "        if ones > 2:\n",
    "            return False\n",
    "        elif ones == 2:\n",
    "            # Check if the two 1s are adjacent\n",
    "            if '11' not in x:\n",
    "                return False\n",
    "    # If no False has been returned yet, return True\n",
    "    return True"
   ]
  },
  {
   "cell_type": "code",
   "execution_count": 27,
   "id": "cc458762-a951-4796-bb04-a6a3862b6640",
   "metadata": {},
   "outputs": [],
   "source": [
    "# Filter rows where both columns satisfy the condition\n",
    "mask = muondata.apply(lambda row: is_valid(row['XZdecoded']) and is_valid(row['YZdecoded']), axis=1)"
   ]
  },
  {
   "cell_type": "code",
   "execution_count": 28,
   "id": "92514e4c-49ad-4b03-8cdf-086adcb6ce57",
   "metadata": {},
   "outputs": [],
   "source": [
    "muondata = muondata[mask]"
   ]
  },
  {
   "cell_type": "code",
   "execution_count": 29,
   "id": "c84a9ed3-77a9-434c-9481-78d0f88a33b7",
   "metadata": {},
   "outputs": [
    {
     "name": "stdout",
     "output_type": "stream",
     "text": [
      "Il numero di eventi è stato ridotto da 48949 a 44663.\n",
      "Sono stati rimossi 4286 eventi (8.76%).\n"
     ]
    }
   ],
   "source": [
    "size_after_qc = len(muondata)\n",
    "print(f\"Il numero di eventi è stato ridotto da {size_before_qc} a {size_after_qc}.\")\n",
    "print(f\"Sono stati rimossi {size_before_qc-size_after_qc} eventi ({(size_before_qc-size_after_qc)/size_before_qc*100:.2f}%).\")"
   ]
  },
  {
   "cell_type": "markdown",
   "id": "0c4cbcfd-7848-40ac-95ad-ef2ebe60008e",
   "metadata": {},
   "source": [
    "## Calcolo della distribuzione angolare\n",
    "A questo punto possiamo realizzare degli istogrammi degli eventi in funzione di $\\theta$ e $\\phi$."
   ]
  },
  {
   "cell_type": "code",
   "execution_count": 9,
   "id": "65fd193c-acd1-418c-b78f-29ac74e03857",
   "metadata": {},
   "outputs": [],
   "source": [
    "n_bins = 5\n",
    "counts, ctheta_bins, phi_bins = np.histogram2d(muondata[\"cos theta\"], muondata[\"phi\"], bins=n_bins)"
   ]
  },
  {
   "cell_type": "code",
   "execution_count": 10,
   "id": "e31ccbfb-6206-4762-ad67-a146df089d77",
   "metadata": {},
   "outputs": [
    {
     "data": {
      "text/plain": [
       "array([[  60.,   57.,   11.,   44.,   44.],\n",
       "       [ 614.,  519.,  527.,  405.,  481.],\n",
       "       [1309., 1342., 1653., 1250., 1007.],\n",
       "       [2772., 2468., 3114., 2503., 1985.],\n",
       "       [8362., 5452., 4926., 4887., 3157.]])"
      ]
     },
     "execution_count": 10,
     "metadata": {},
     "output_type": "execute_result"
    }
   ],
   "source": [
    "counts"
   ]
  },
  {
   "cell_type": "code",
   "execution_count": 11,
   "id": "0bfcfaec-b256-4389-b2da-2358ec4365fb",
   "metadata": {},
   "outputs": [
    {
     "data": {
      "text/plain": [
       "array([0.6395294 , 0.71162352, 0.78371764, 0.85581176, 0.92790588,\n",
       "       1.        ])"
      ]
     },
     "execution_count": 11,
     "metadata": {},
     "output_type": "execute_result"
    }
   ],
   "source": [
    "ctheta_bins"
   ]
  },
  {
   "cell_type": "code",
   "execution_count": 12,
   "id": "6fa90a32-9c9b-4043-9725-b7de793d2a62",
   "metadata": {},
   "outputs": [
    {
     "data": {
      "text/plain": [
       "Text(0, 0.5, 'Counts')"
      ]
     },
     "execution_count": 12,
     "metadata": {},
     "output_type": "execute_result"
    },
    {
     "data": {
      "image/png": "[encoded data removed]",
      "text/plain": [
       "<Figure size 640x480 with 1 Axes>"
      ]
     },
     "metadata": {},
     "output_type": "display_data"
    }
   ],
   "source": [
    "# Plot theta histogram\n",
    "plt.hist(muondata[\"cos theta\"], ctheta_bins)\n",
    "plt.xlabel(r'$\\cos\\theta$')\n",
    "plt.ylabel('Counts')"
   ]
  },
  {
   "cell_type": "code",
   "execution_count": 13,
   "id": "35b75eda-8ad7-4e39-8b12-79c208b7e68f",
   "metadata": {},
   "outputs": [
    {
     "data": {
      "text/plain": [
       "Text(0, 0.5, 'Counts')"
      ]
     },
     "execution_count": 13,
     "metadata": {},
     "output_type": "execute_result"
    },
    {
     "data": {
      "image/png": "[encoded data removed]",
      "text/plain": [
       "<Figure size 640x480 with 1 Axes>"
      ]
     },
     "metadata": {},
     "output_type": "display_data"
    }
   ],
   "source": [
    "# Plot phi histogram\n",
    "plt.hist(muondata[\"phi\"], phi_bins)\n",
    "plt.xlabel(r'$\\phi$ [deg]')\n",
    "plt.ylabel('Counts')"
   ]
  },
  {
   "cell_type": "code",
   "execution_count": 14,
   "id": "575584a8-233d-45c0-9b4d-60001cd75963",
   "metadata": {},
   "outputs": [
    {
     "data": {
      "text/plain": [
       "Text(0, 0.5, 'Counts')"
      ]
     },
     "execution_count": 14,
     "metadata": {},
     "output_type": "execute_result"
    },
    {
     "data": {
      "image/png": "[encoded data removed]",
      "text/plain": [
       "<Figure size 640x480 with 1 Axes>"
      ]
     },
     "metadata": {},
     "output_type": "display_data"
    }
   ],
   "source": [
    "plt.hist(np.deg2rad(muondata[\"phi\"]), np.deg2rad(phi_bins))\n",
    "plt.xlabel(r'$\\phi$ [rad]')\n",
    "plt.ylabel('Counts')"
   ]
  },
  {
   "cell_type": "code",
   "execution_count": 15,
   "id": "dfa825ef-cbaa-4f1d-87d2-634fd8f3c9d3",
   "metadata": {},
   "outputs": [
    {
     "data": {
      "text/plain": [
       "Text(0, 0.5, '$\\\\phi$ [deg]')"
      ]
     },
     "execution_count": 15,
     "metadata": {},
     "output_type": "execute_result"
    },
    {
     "data": {
      "image/png": "[encoded data removed]",
      "text/plain": [
       "<Figure size 640x480 with 1 Axes>"
      ]
     },
     "metadata": {},
     "output_type": "display_data"
    }
   ],
   "source": [
    "plt.hist2d(muondata[\"cos theta\"], muondata[\"phi\"], bins=n_bins)\n",
    "plt.xlabel(r'$\\cos\\theta$')\n",
    "plt.ylabel(r'$\\phi$ [deg]')\n"
   ]
  },
  {
   "cell_type": "markdown",
   "id": "a817f819-4958-43d0-9caa-3bf893dea6a8",
   "metadata": {},
   "source": [
    "## Calcolo del flusso angolare\n",
    "Seguiamo la formula\n",
    "$$\n",
    "    \\Phi(\\theta,\\phi)=\\frac{N(\\theta,\\phi)}{T_{\\rm obs}A_{\\rm eff}(\\theta,\\phi)\\Delta\\Omega}\n",
    "$$\n",
    "dove $N$ è il numero di conteggi, $T_{\\rm obs}$ è il tempo di osservazione, $A_{\\rm eff}$ è l'area efficace (vedere il notebook dedicato) e $\\Delta\\Omega=\\Delta\\cos\\theta\\Delta\\phi$ è l'elemento di angolo solido considerato. Assumendo un errore poissoniano sui conteggi, l'errore sul flusso sarà dato da\n",
    "$$\n",
    "    \\Delta\\Phi(\\theta,\\phi)=\\frac{\\sqrt{N(\\theta,\\phi)}}{T_{\\rm obs}A_{\\rm eff}(\\theta,\\phi)\\Delta\\Omega}\n",
    "$$"
   ]
  },
  {
   "cell_type": "markdown",
   "id": "cdca6534-dc70-4294-be17-1278a1fcfc6f",
   "metadata": {},
   "source": [
    "Calcoliamo ora il flusso in bin di $\\phi$ e $\\cos\\theta$:"
   ]
  },
  {
   "cell_type": "code",
   "execution_count": 37,
   "id": "30cbd8ac-dc63-4d82-97c5-b15d34344967",
   "metadata": {},
   "outputs": [],
   "source": [
    "dctheta = np.diff(ctheta_bins)[0]\n",
    "dphi = np.diff(np.deg2rad(phi_bins))[0]\n",
    "ctheta_center = ctheta_bins[:-1] + dctheta/2\n",
    "phi_center = np.deg2rad(phi_bins[:-1]) + dphi/2"
   ]
  },
  {
   "cell_type": "code",
   "execution_count": 38,
   "id": "7738bf52-30c1-4998-acbc-e372717b39c8",
   "metadata": {},
   "outputs": [],
   "source": [
    "domega = dctheta*dphi"
   ]
  },
  {
   "cell_type": "markdown",
   "id": "84ab0ad8-bddd-4969-814b-7161ece23865",
   "metadata": {},
   "source": [
    "Calcoliamo il tempo di osservazione dalla tabella dei dati:"
   ]
  },
  {
   "cell_type": "code",
   "execution_count": 39,
   "id": "57d83de5-4f25-4c4f-989f-fadca04ea948",
   "metadata": {},
   "outputs": [
    {
     "name": "stdout",
     "output_type": "stream",
     "text": [
      "Tempo di osservazione: 35770.767 s (9.94 h)\n"
     ]
    }
   ],
   "source": [
    "datetimes = [datetime.strptime(d+' '+t+' '+ p, '%d/%m/%Y %I:%M:%S.%f %p') for (d,t,p) in zip(muondata[\"Date\"], muondata[\"Time\"], muondata[\"AM/PM\"])]\n",
    "t = (max(datetimes) - min(datetimes)).total_seconds()\n",
    "print('Tempo di osservazione:', t, 's', f'({t/3600.:.2f} h)')"
   ]
  },
  {
   "cell_type": "markdown",
   "id": "2a4dc9db-bfc5-4cd5-80e6-85d72980edeb",
   "metadata": {},
   "source": [
    "Per l'area efficace, definiamo la funzione apposita, specificando le dimensioni del cubo e il numero dei piani di trigger.  Ricordiamo che le barre di scintillatore sono larghe 4 cm, lunghe 26 cm e spesse 1 cm. I moduli sono costituiti da due strati di barrette sovrapposte ortogonalmente e separati verticalmente di 7 cm. (https://web.infn.it/OCRA/misura-della-rate-di-muoni-cosmici/)"
   ]
  },
  {
   "cell_type": "code",
   "execution_count": 40,
   "id": "ddd24fe6-e3e8-46dc-a8f0-e0afdf2cc797",
   "metadata": {},
   "outputs": [],
   "source": [
    "L = 24\n",
    "dz = 7\n",
    "n = 4\n",
    "def aeff(L, n, dz, theta, phi):\n",
    "    # Fold phi in [0, pi/4] range\n",
    "    if phi < 0 or phi > np.pi/4:\n",
    "        phi_original = phi\n",
    "        phi = phi % (np.pi/2)             # Wrap into [0, pi/2]\n",
    "        phi = min(phi, np.pi/2 - phi)     # Fold into [0, pi/4]\n",
    "        \n",
    "    # Check if theta < theta_max\n",
    "    if n == 1:\n",
    "        th_max = np.pi/2\n",
    "    else:\n",
    "        th_max = np.arctan(L/((n-1)*dz*np.cos(phi)))\n",
    "    if theta > th_max:\n",
    "        raise ValueError(f'theta = {theta} > {th_max} for phi = {phi}')\n",
    "\n",
    "    # If no errors, compute and return effective area\n",
    "    term_1 = (L**2/np.cos(phi) - (n-1)*L*dz*np.tan(theta))*(1-np.tan(phi))\n",
    "    term_2 = (L**2/np.cos(phi)**2 + (n-1)**2*dz**2*np.tan(theta)**2 - 2*(n-1)/np.cos(phi)*L*dz*np.tan(theta))*np.sin(phi)\n",
    "    a = (term_1 + term_2)*np.cos(phi)*np.cos(theta)\n",
    "    return a"
   ]
  },
  {
   "cell_type": "markdown",
   "id": "579c3500-9e08-427e-9887-d859d05e81bc",
   "metadata": {},
   "source": [
    "**Nota:** \n",
    "\n",
    "Il calcolo dell'area efficace (v. `effective_area.ipynb`) è stato effettuato considerando un rivelatore con piani di spessore nullo separati da una distanza $\\Delta z$, da cui dipende il massimo valore di $\\theta$ per cui l'area efficace si annulla. Tuttavia, come è facilmente intuibile, nel caso in cui lo spessore dei piani non sia trascurabile questo valore massimo cambia ed è leggermente maggiore rispetto a quello calcolato nel caso di spessore nullo. Da questo fatto segue che se si prova a usare lo stesso valore di $\\Delta z$ per ricostruire le tracce (considerando lo spessore dei piani) e per calcolare l'area efficace, ci possono essere alcuni valori ricostruiti di $\\theta$ superiori al massimo teorico, che danno luogo a valori dell'area efficace negativi o comunque errati. \n",
    "\n",
    "In primissima approssimazione si può aggirare questo problema considerando un $\\Delta z$ leggermente inferiore nel calcolo dell'area efficace. In questo modo i valori di $\\theta$ vengono ricostruiti abbastanza correttamente (confrontare i valori dei coseni con quelli riportati dall'app...), e quelli più \"estremi\" vengono inclusi considerando un rivelatore con un'accettanza leggermente superiore a quella prevista teoricamente."
   ]
  },
  {
   "cell_type": "markdown",
   "id": "2193756e-d213-40fd-b12f-3002632086ab",
   "metadata": {},
   "source": [
    " Abbiamo quindi tutti gli elementi per calcolare il flusso in funzione di $\\theta$ e $\\phi$:"
   ]
  },
  {
   "cell_type": "code",
   "execution_count": 41,
   "id": "d6d1d57d-aabf-4eec-9dd2-b7307672c7ad",
   "metadata": {},
   "outputs": [],
   "source": [
    "flux = np.array([[None for _ in ctheta_center] for _ in phi_center])\n",
    "dflux = np.array([[None for _ in ctheta_center] for _ in phi_center])"
   ]
  },
  {
   "cell_type": "code",
   "execution_count": 42,
   "id": "f0ec0062-6ebe-4e9f-8459-8758e2b50108",
   "metadata": {},
   "outputs": [],
   "source": [
    "for (i,cth) in enumerate(ctheta_center):\n",
    "    for (j,ph) in enumerate(phi_center):\n",
    "        th = np.acos(cth)\n",
    "        a = aeff(L, n, dz, th, ph)\n",
    "        flux[i,j] = counts[i,j]/(t*a*domega)\n",
    "        dflux[i,j] = np.sqrt(counts[i,j])/(t*a*domega)"
   ]
  },
  {
   "cell_type": "markdown",
   "id": "632d4a6d-0c2a-4be5-b6e1-da01790bd628",
   "metadata": {},
   "source": [
    "Calcoliamo quindi il flusso integrato su $\\phi$, in modo tale da ottenere la dipendenza da $\\theta$. Con un abuso di notazione definiamo\n",
    "$$\n",
    "    \\Phi(\\theta)=\\int_{-\\pi}^{\\pi}\\Phi(\\theta,\\phi)\\,{\\rm d}\\phi=\\sum_i\\Phi(\\theta,\\phi_i)\\Delta\\phi\n",
    "$$\n",
    "L'errore si ottiene dalla somma in quadratura:\n",
    "$$\n",
    "    \\Delta\\Phi(\\theta)=\\sqrt{\\sum_i\\left(\\Delta\\Phi(\\theta,\\phi_i)\\Delta\\phi\\right)^2}\n",
    "$$"
   ]
  },
  {
   "cell_type": "code",
   "execution_count": 44,
   "id": "a8ad5d59-3f24-46cc-92d3-3c84e5705d49",
   "metadata": {},
   "outputs": [],
   "source": [
    "flux_theta = np.sum(flux, axis=1)*dphi\n",
    "dflux_theta = [np.sqrt(x)*dphi for x in np.sum(dflux**2, axis=1)]"
   ]
  },
  {
   "cell_type": "markdown",
   "id": "8c3b40e4-0435-4dcf-a517-ca37559cd4a5",
   "metadata": {},
   "source": [
    "Per finire, adattiamo una funzione del tipo $p_0+p_1\\cos^2\\theta$ ai valori misurati di $\\Phi(\\theta)$: "
   ]
  },
  {
   "cell_type": "code",
   "execution_count": 27,
   "id": "efcac920-1664-4c77-a654-897f9b6f84b4",
   "metadata": {},
   "outputs": [],
   "source": [
    "from scipy.optimize import curve_fit\n",
    "def model(ctheta, p0, p1):\n",
    "    return p0 + p1 * ctheta**2\n",
    "\n",
    "popt, pcov = curve_fit(model, ctheta_center, flux_theta, sigma=dflux_theta)\n",
    "p0, p1 = popt\n",
    "\n",
    "ctheta_fit = np.linspace(0, 1, 1000)\n",
    "y_fit = model(ctheta_fit, *popt)"
   ]
  },
  {
   "cell_type": "code",
   "execution_count": 28,
   "id": "3f643dc9-4e66-4b4b-9b45-777f71540ec9",
   "metadata": {},
   "outputs": [
    {
     "name": "stdout",
     "output_type": "stream",
     "text": [
      "p0: -0.014879306021908444 \n",
      "p1 0.04188783637923978\n"
     ]
    }
   ],
   "source": [
    "print('p0:', p0, '\\np1', p1)"
   ]
  },
  {
   "cell_type": "code",
   "execution_count": 29,
   "id": "ea0ae89a-2f6e-4894-b8ea-ce3e553d1758",
   "metadata": {},
   "outputs": [
    {
     "data": {
      "text/plain": [
       "<matplotlib.legend.Legend at 0x7f387a923590>"
      ]
     },
     "execution_count": 29,
     "metadata": {},
     "output_type": "execute_result"
    },
    {
     "data": {
      "image/png": "[encoded data removed]",
      "text/plain": [
       "<Figure size 640x480 with 1 Axes>"
      ]
     },
     "metadata": {},
     "output_type": "display_data"
    }
   ],
   "source": [
    "plt.errorbar(ctheta_center, flux_theta, yerr=dflux_theta, marker='.', label='dati CRC', linestyle='none')\n",
    "plt.plot(ctheta_fit, y_fit, label=r'fit $p_0 + p_1\\cos^2\\theta$')\n",
    "plt.xlabel(r'$\\cos\\theta$')\n",
    "plt.ylabel(r'$\\Phi$ [cm$^{-2}$ s$^{-1}$ rad$^{-1}$]')\n",
    "plt.ylim(bottom=0)\n",
    "plt.legend()"
   ]
  },
  {
   "cell_type": "code",
   "execution_count": 30,
   "id": "0357b734-bcc0-4a4c-a478-1e1048a3742f",
   "metadata": {},
   "outputs": [
    {
     "data": {
      "text/plain": [
       "<matplotlib.legend.Legend at 0x7f387c1dc150>"
      ]
     },
     "execution_count": 30,
     "metadata": {},
     "output_type": "execute_result"
    },
    {
     "data": {
      "image/png": "[encoded data removed]",
      "text/plain": [
       "<Figure size 640x480 with 1 Axes>"
      ]
     },
     "metadata": {},
     "output_type": "display_data"
    }
   ],
   "source": [
    "plt.errorbar(np.acos(ctheta_center), flux_theta, yerr=dflux_theta, marker='.', label='dati CRC', linestyle='none')\n",
    "plt.plot(np.acos(ctheta_fit), p0 + p1*ctheta_fit**2, label=r'fit $p_0 + p_1\\cos^2\\theta$')\n",
    "plt.xlabel(r'$\\theta$ [rad]')\n",
    "plt.ylabel(r'$\\Phi$ [cm$^{-2}$ s$^{-1}$ rad$^{-1}$]')\n",
    "plt.ylim(bottom=0)\n",
    "plt.legend()"
   ]
  },
  {
   "cell_type": "code",
   "execution_count": null,
   "id": "5b38408b-ce62-4a47-9719-a0484767ac8c",
   "metadata": {},
   "outputs": [],
   "source": []
  }
 ],
 "metadata": {
  "kernelspec": {
   "display_name": "gammapy-1.3",
   "language": "python",
   "name": "gammapy-1.3"
  },
  "language_info": {
   "codemirror_mode": {
    "name": "ipython",
    "version": 3
   },
   "file_extension": ".py",
   "mimetype": "text/x-python",
   "name": "python",
   "nbconvert_exporter": "python",
   "pygments_lexer": "ipython3",
   "version": "3.11.11"
  }
 },
 "nbformat": 4,
 "nbformat_minor": 5
}
